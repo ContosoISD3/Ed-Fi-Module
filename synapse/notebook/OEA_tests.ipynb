{
  "cells": [
    {
      "cell_type": "markdown",
      "metadata": {
        "nteract": {
          "transient": {
            "deleting": false
          }
        }
      },
      "source": [
        "# Tests for the OEA framework"
      ]
    },
    {
      "cell_type": "code",
      "execution_count": 1,
      "metadata": {},
      "outputs": [
        {
          "data": {
            "application/vnd.livy.statement-meta+json": {
              "execution_finish_time": "2022-10-10T03:37:59.9516117Z",
              "execution_start_time": "2022-10-10T03:37:59.9512917Z",
              "livy_statement_state": "available",
              "queued_time": "2022-10-10T03:34:51.0910015Z",
              "session_id": "32",
              "session_start_time": null,
              "spark_jobs": null,
              "spark_pool": null,
              "state": "finished",
              "statement_id": -1
            },
            "text/plain": [
              "StatementMeta(, 32, -1, Finished, Available)"
            ]
          },
          "metadata": {},
          "output_type": "display_data"
        }
      ],
      "source": [
        "%run OEA_0p7_py"
      ]
    },
    {
      "cell_type": "code",
      "execution_count": 2,
      "metadata": {
        "jupyter": {
          "outputs_hidden": false,
          "source_hidden": false
        },
        "nteract": {
          "transient": {
            "deleting": false
          }
        }
      },
      "outputs": [
        {
          "data": {
            "application/vnd.livy.statement-meta+json": {
              "execution_finish_time": "2022-10-10T03:39:59.7836789Z",
              "execution_start_time": "2022-10-10T03:39:59.6182157Z",
              "livy_statement_state": "available",
              "queued_time": "2022-10-10T03:39:59.5017091Z",
              "session_id": "32",
              "session_start_time": null,
              "spark_jobs": null,
              "spark_pool": "spark3p2sm",
              "state": "finished",
              "statement_id": 2
            },
            "text/plain": [
              "StatementMeta(spark3p2sm, 32, 2, Finished, Available)"
            ]
          },
          "metadata": {},
          "output_type": "display_data"
        },
        {
          "name": "stdout",
          "output_type": "stream",
          "text": [
            "2022-10-10 03:39:59,700 - OEA - INFO - OEA initialized.\n",
            "2022-10-10 03:39:59,700 - OEA - INFO - Now using workspace: sandbox1\n"
          ]
        }
      ],
      "source": [
        "oea = OEA('stoeacisd3927b', '1234')\n",
        "oea.use_workspace('sandbox1')"
      ]
    },
    {
      "cell_type": "code",
      "execution_count": 18,
      "metadata": {
        "jupyter": {
          "outputs_hidden": false,
          "source_hidden": false
        },
        "nteract": {
          "transient": {
            "deleting": false
          }
        }
      },
      "outputs": [],
      "source": [
        "def reset_additive_data_tests():\n",
        "    oea.rm_if_exists('stage1/Transactional/contoso_sis/v0.1/studentattendance')\n",
        "    oea.rm_if_exists('stage2/Ingested/contoso_sis/v0.1/studentattendance')\n",
        "\n",
        "def land_studentattendance_day1(expected_record_count):\n",
        "    path = oea.land_data_from_url('https://raw.githubusercontent.com/microsoft/OpenEduAnalytics/gene/v0.7dev/framework/test_data/contoso_sis/day1/studentattendance/part1.csv', 'stage1/Transactional/contoso_sis/v0.1/studentattendance/additive_batch_data')\n",
        "    df = oea.load_csv(path)\n",
        "    assert df.count() == expected_record_count, f'Expected {expected_record_count} records in landed data, but found {df.count()}'\n",
        "\n",
        "def land_studentattendance_day2(expected_record_count):\n",
        "    path = oea.land_data_from_url('https://raw.githubusercontent.com/microsoft/OpenEduAnalytics/gene/v0.7dev/framework/test_data/contoso_sis/day2/studentattendance/part1.csv', 'stage1/Transactional/contoso_sis/v0.1/studentattendance/additive_batch_data')\n",
        "    df = oea.load_csv(path)\n",
        "    assert df.count() == expected_record_count, f'Expected {expected_record_count} records in landed data, but found {df.count()}'\n",
        "\n",
        "def ingest_studentattendance(expected_record_count):\n",
        "    oea.ingest('stage1/Transactional/contoso_sis/v0.1/studentattendance')\n",
        "    df = oea.load('stage2/Ingested/contoso_sis/v0.1/studentattendance')\n",
        "    assert df.count() == expected_record_count, f'Expected {expected_record_count} records in landed data, but found {df.count()}'\n",
        "\n",
        "reset_additive_data_tests()\n",
        "# test1 - Land the first batch of studentattendance data\n",
        "land_studentattendance_day1(1464)\n",
        "# test2 - Ingest the data from stage1 into stage2\n",
        "ingest_studentattendance(1464)\n",
        "# test3 - run the same ingestion a second time and verify that it doesn't change what was ingested (ingestion is idempotent via use of _checkpoints)\n",
        "ingest_studentattendance(1464)\n",
        "# test4 - Land the second batch of studentattendance data\n",
        "land_studentattendance_day2(2928)\n",
        "# test5 - Ingest the data from stage1 into stage2\n",
        "ingest_studentattendance(4392)\n",
        "\n"
      ]
    },
    {
      "cell_type": "code",
      "execution_count": 19,
      "metadata": {
        "collapsed": false,
        "jupyter": {
          "outputs_hidden": false,
          "source_hidden": false
        },
        "nteract": {
          "transient": {
            "deleting": false
          }
        }
      },
      "outputs": [],
      "source": [
        "def reset_delta_data_tests():\n",
        "    oea.rm_if_exists('stage1/Transactional/contoso_sis/v0.1/students')\n",
        "    oea.rm_if_exists('stage2/Ingested/contoso_sis/v0.1/students')\n",
        "\n",
        "def land_students_day1(expected_record_count):\n",
        "    path = oea.land_data_from_url('https://raw.githubusercontent.com/microsoft/OpenEduAnalytics/gene/v0.7dev/framework/test_data/contoso_sis/day1/students/part1.csv', 'stage1/Transactional/contoso_sis/v0.1/students/delta_batch_data')\n",
        "    df = oea.load_csv(path)\n",
        "    assert df.count() == expected_record_count, f'Expected {expected_record_count} records in landed data, but found {df.count()}'\n",
        "\n",
        "def land_students_day2(expected_record_count):\n",
        "    path = oea.land_data_from_url('https://raw.githubusercontent.com/microsoft/OpenEduAnalytics/gene/v0.7dev/framework/test_data/contoso_sis/day2/students/part1.csv', 'stage1/Transactional/contoso_sis/v0.1/students/delta_batch_data')\n",
        "    df = oea.load_csv(path)\n",
        "    assert df.count() == expected_record_count, f'Expected {expected_record_count} records in landed data, but found {df.count()}'\n",
        "\n",
        "def ingest_students(expected_record_count):\n",
        "    oea.ingest('stage1/Transactional/contoso_sis/v0.1/students', 'SIS_ID')\n",
        "    df = oea.load('stage2/Ingested/contoso_sis/v0.1/students')\n",
        "    assert df.count() == expected_record_count, f'Expected {expected_record_count} records in landed data, but found {df.count()}'\n",
        "\n",
        "reset_delta_data_tests()\n",
        "# test1 - Land the first batch of studentattendance data\n",
        "land_students_day1(1)\n",
        "# test2 - Ingest the data from stage1 into stage2\n",
        "ingest_students(1)\n",
        "# test3 - run the same ingestion a second time and verify that it doesn't change what was ingested (ingestion is idempotent via use of _checkpoints)\n",
        "ingest_students(1)\n",
        "# test4 - Land the second batch of studentattendance data\n",
        "land_students_day2(2)\n",
        "# test5 - Ingest the data from stage1 into stage2\n",
        "ingest_students(2)"
      ]
    },
    {
      "cell_type": "code",
      "execution_count": 20,
      "metadata": {
        "collapsed": false,
        "jupyter": {
          "outputs_hidden": false,
          "source_hidden": false
        },
        "nteract": {
          "transient": {
            "deleting": false
          }
        }
      },
      "outputs": [],
      "source": [
        "def reset_snapshot_data_tests():\n",
        "    oea.rm_if_exists('stage1/Transactional/contoso_sis/v0.1/studentsectionmark')\n",
        "    oea.rm_if_exists('stage2/Ingested/contoso_sis/v0.1/studentsectionmark')\n",
        "\n",
        "def land_studentsectionmark_day1(expected_record_count):\n",
        "    path = oea.land_data_from_url('https://raw.githubusercontent.com/microsoft/OpenEduAnalytics/gene/v0.7dev/framework/test_data/contoso_sis/day1/studentsectionmark/part1.csv', 'stage1/Transactional/contoso_sis/v0.1/studentsectionmark/delta_batch_data')\n",
        "    df = oea.load_csv(path)\n",
        "    assert df.count() == expected_record_count, f'Expected {expected_record_count} records in landed data, but found {df.count()}'\n",
        "\n",
        "def land_studentsectionmark_day2(expected_record_count):\n",
        "    path = oea.land_data_from_url('https://raw.githubusercontent.com/microsoft/OpenEduAnalytics/gene/v0.7dev/framework/test_data/contoso_sis/day2/studentsectionmark/part1.csv', 'stage1/Transactional/contoso_sis/v0.1/studentsectionmark/delta_batch_data')\n",
        "    df = oea.load_csv(path)\n",
        "    assert df.count() == expected_record_count, f'Expected {expected_record_count} records in landed data, but found {df.count()}'\n",
        "\n",
        "def ingest_studentsectionmark(expected_record_count):\n",
        "    oea.ingest('stage1/Transactional/contoso_sis/v0.1/studentsectionmark')\n",
        "    df = oea.load('stage2/Ingested/contoso_sis/v0.1/studentsectionmark')\n",
        "    assert df.count() == expected_record_count, f'Expected {expected_record_count} records in landed data, but found {df.count()}'\n",
        "\n",
        "reset_snapshot_data_tests()\n",
        "# test1 - Land the first batch of studentattendance data\n",
        "land_studentsectionmark_day1(12)\n",
        "# test2 - Ingest the data from stage1 into stage2\n",
        "ingest_studentsectionmark(12)\n",
        "# test3 - run the same ingestion a second time and verify that it doesn't change what was ingested (ingestion is idempotent via use of _checkpoints)\n",
        "ingest_studentsectionmark(12)\n",
        "# test4 - Land the second batch of studentattendance data\n",
        "land_studentsectionmark_day2(24)\n",
        "# test5 - Ingest the data from stage1 into stage2\n",
        "ingest_studentsectionmark(24)"
      ]
    },
    {
      "cell_type": "code",
      "execution_count": null,
      "metadata": {
        "collapsed": false,
        "jupyter": {
          "outputs_hidden": false,
          "source_hidden": false
        },
        "nteract": {
          "transient": {
            "deleting": false
          }
        }
      },
      "outputs": [],
      "source": [
        "def refine_contoso_sis(df_source):\n",
        "    metadata = oea.get_metadata_from_url('https://raw.githubusercontent.com/microsoft/OpenEduAnalytics/gene/v0.7dev/modules/module_catalog/Student_and_School_Data_Systems/metadata.csv')\n",
        "    #oea.upsert(df_source, 'stage2/Refined/contoso_sis/v0.1/general/studentattendance')\n",
        "    df_pseudo, df_lookup = oea.pseudonymize(df_source, metadata['studentattendance'])\n",
        "    oea.upsert(df_pseudo, 'stage2/Refined/contoso_sis/v0.1/general/studentattendance')\n",
        "    oea.upsert(df_lookup, 'stage2/Refined/contoso_sis/v0.1/sensitive/studentattendance')\n",
        "\n",
        "oea.process('stage2/Ingested/contoso_sis/v0.1/studentattendance', refine_contoso_sis)\n",
        "\n",
        "# query a sample of the data refined into stage2/refined\n",
        "oea.display('stage2/Refined/contoso_sis/v0.1/general/studentattendance')\n",
        "oea.display('stage2/Refined/contoso_sis/v0.1/sensitive/studentattendance')"
      ]
    }
  ],
  "metadata": {
    "kernel_info": {
      "name": "synapse_pyspark"
    },
    "kernelspec": {
      "display_name": "Synapse PySpark",
      "language": "python",
      "name": "synapse_pyspark"
    },
    "language_info": {
      "name": "python",
      "version": "3.9.6"
    },
    "save_output": true,
    "synapse_widget": {
      "state": {},
      "version": "0.1"
    },
    "vscode": {
      "interpreter": {
        "hash": "b40575d9753af941184b70755952c374b5653133d24dd0948b6b1dae2fa1bd6e"
      }
    }
  },
  "nbformat": 4,
  "nbformat_minor": 2
}
