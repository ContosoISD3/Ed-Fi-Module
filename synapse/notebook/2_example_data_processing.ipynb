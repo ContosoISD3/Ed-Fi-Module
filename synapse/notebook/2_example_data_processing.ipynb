{
  "cells": [
    {
      "cell_type": "markdown",
      "source": [
        "# Example data processing\r\n",
        "This example demonstrates how a data engineer utilizes OEA to work with data from a new data source."
      ],
      "metadata": {
        "nteract": {
          "transient": {
            "deleting": false
          }
        }
      }
    },
    {
      "cell_type": "code",
      "source": [
        "%run OEA_py"
      ],
      "outputs": [
        {
          "output_type": "display_data",
          "data": {
            "application/vnd.livy.statement-meta+json": {
              "spark_pool": null,
              "session_id": "23",
              "statement_id": -1,
              "state": "finished",
              "livy_statement_state": "available",
              "queued_time": "2022-11-15T13:02:22.5434363Z",
              "session_start_time": null,
              "execution_start_time": "2022-11-15T13:02:23.1548209Z",
              "execution_finish_time": "2022-11-15T13:02:23.1550483Z",
              "spark_jobs": null
            },
            "text/plain": "StatementMeta(, 23, -1, Finished, Available)"
          },
          "metadata": {}
        },
        {
          "output_type": "stream",
          "name": "stdout",
          "text": [
            "2022-11-15 13:02:22,909 - OEA - INFO - Now using workspace: dev\n2022-11-15 13:02:22,909 - OEA - INFO - OEA initialized.\n"
          ]
        }
      ],
      "execution_count": 2,
      "metadata": {
        "jupyter": {
          "source_hidden": false,
          "outputs_hidden": false
        },
        "nteract": {
          "transient": {
            "deleting": false
          }
        }
      }
    },
    {
      "cell_type": "code",
      "source": [
        "# 1) set the workspace (this determines where in the data lake you'll be writing to and reading from).\r\n",
        "# You can work in 'dev', 'prod', or a sandbox with any name you choose.\r\n",
        "# For example, Sam the developer can create a 'sam' workspace and expect to find his datasets in the data lake under oea/sandboxes/sam\r\n",
        "oea.set_workspace('sam')"
      ],
      "outputs": [
        {
          "output_type": "display_data",
          "data": {
            "application/vnd.livy.statement-meta+json": {
              "spark_pool": "spark3p2sm",
              "session_id": "23",
              "statement_id": 3,
              "state": "finished",
              "livy_statement_state": "available",
              "queued_time": "2022-11-15T13:02:26.4234572Z",
              "session_start_time": null,
              "execution_start_time": "2022-11-15T13:02:26.5365559Z",
              "execution_finish_time": "2022-11-15T13:02:26.7058447Z",
              "spark_jobs": null
            },
            "text/plain": "StatementMeta(spark3p2sm, 23, 3, Finished, Available)"
          },
          "metadata": {}
        },
        {
          "output_type": "stream",
          "name": "stdout",
          "text": [
            "2022-11-15 13:02:26,530 - OEA - INFO - Now using workspace: sam\n"
          ]
        }
      ],
      "execution_count": 3,
      "metadata": {
        "jupyter": {
          "source_hidden": false,
          "outputs_hidden": false
        },
        "nteract": {
          "transient": {
            "deleting": false
          }
        }
      }
    },
    {
      "cell_type": "code",
      "source": [
        "# 2) Now land a batch data file into stage1 of the data lake.\r\n",
        "# In this example we pull a test csv data file from github and it is landed in oea/sandboxes/sam/stage1/Transactional/contoso/v0.1/students/delta_batch_data/rundate=<utc datetime>\r\n",
        "data = oea.get_text_from_url('https://raw.githubusercontent.com/microsoft/OpenEduAnalytics/main/framework/test_data/contoso_sis/day1/students/part1.csv')\r\n",
        "oea.land(data, 'contoso/v0.1/students', 'students.csv', oea.DELTA_BATCH_DATA)"
      ],
      "outputs": [
        {
          "output_type": "display_data",
          "data": {
            "application/vnd.livy.statement-meta+json": {
              "spark_pool": "spark3p2sm",
              "session_id": "23",
              "statement_id": 5,
              "state": "finished",
              "livy_statement_state": "available",
              "queued_time": "2022-11-15T13:03:24.7273272Z",
              "session_start_time": null,
              "execution_start_time": "2022-11-15T13:03:24.8284528Z",
              "execution_finish_time": "2022-11-15T13:03:25.94273Z",
              "spark_jobs": null
            },
            "text/plain": "StatementMeta(spark3p2sm, 23, 5, Finished, Available)"
          },
          "metadata": {}
        },
        {
          "output_type": "execute_result",
          "execution_count": 19,
          "data": {
            "text/plain": "'stage1/Transactional/contoso/v0.1/students/delta_batch_data/rundate=2022-11-15 13:03:25/students.csv'"
          },
          "metadata": {}
        }
      ],
      "execution_count": 5,
      "metadata": {
        "jupyter": {
          "source_hidden": false,
          "outputs_hidden": false
        },
        "nteract": {
          "transient": {
            "deleting": false
          }
        }
      }
    },
    {
      "cell_type": "code",
      "source": [
        "# 3) You can verify that the data is in stage1 by reading it into a dataframe. Note that a \"rundate\" column has been added - representing the datetime that the batch data was landed in the data lake.\r\n",
        "df = oea.load_csv(f'stage1/Transactional/contoso/v0.1/students')\r\n",
        "display(df)"
      ],
      "outputs": [
        {
          "output_type": "display_data",
          "data": {
            "application/vnd.livy.statement-meta+json": {
              "spark_pool": "spark3p2sm",
              "session_id": "23",
              "statement_id": 6,
              "state": "finished",
              "livy_statement_state": "available",
              "queued_time": "2022-11-15T13:03:43.2787554Z",
              "session_start_time": null,
              "execution_start_time": "2022-11-15T13:03:43.3861828Z",
              "execution_finish_time": "2022-11-15T13:04:10.8426581Z",
              "spark_jobs": null
            },
            "text/plain": "StatementMeta(spark3p2sm, 23, 6, Finished, Available)"
          },
          "metadata": {}
        },
        {
          "output_type": "display_data",
          "data": {
            "application/vnd.synapse.widget-view+json": {
              "widget_id": "76e539ce-6408-4e5d-abd7-f4a5572bdfb1",
              "widget_type": "Synapse.DataFrame"
            },
            "text/plain": "SynapseWidget(Synapse.DataFrame, 76e539ce-6408-4e5d-abd7-f4a5572bdfb1)"
          },
          "metadata": {}
        }
      ],
      "execution_count": 6,
      "metadata": {
        "jupyter": {
          "source_hidden": false,
          "outputs_hidden": false
        },
        "nteract": {
          "transient": {
            "deleting": false
          }
        },
        "collapsed": false
      }
    },
    {
      "cell_type": "code",
      "source": [
        "# 4) The next step is to ingest the batch data into stage2\r\n",
        "# Note that when you run this the first time, you'll see an info message like \"Number of new inbound rows processed: 2\".\r\n",
        "# If you run this a second time, the number of inbound rows processed will be 0 because the ingestion uses spark structured streaming to keep track of what data has already been processed.\r\n",
        "oea.ingest(f'contoso/v0.1/students', 'SIS ID')"
      ],
      "outputs": [
        {
          "output_type": "display_data",
          "data": {
            "application/vnd.livy.statement-meta+json": {
              "spark_pool": "spark3p2sm",
              "session_id": "23",
              "statement_id": 7,
              "state": "finished",
              "livy_statement_state": "available",
              "queued_time": "2022-11-15T13:04:15.0364171Z",
              "session_start_time": null,
              "execution_start_time": "2022-11-15T13:04:15.1837485Z",
              "execution_finish_time": "2022-11-15T13:04:44.8134049Z",
              "spark_jobs": null
            },
            "text/plain": "StatementMeta(spark3p2sm, 23, 7, Finished, Available)"
          },
          "metadata": {}
        },
        {
          "output_type": "stream",
          "name": "stdout",
          "text": [
            "2022-11-15 13:04:15,268 - OEA - INFO - Ingesting from: stage1/Transactional/contoso/v0.1/students, batch type of: delta, source data format of: csv\n2022-11-15 13:04:16,077 - py4j.java_gateway - INFO - Callback Server Starting\n2022-11-15 13:04:16,078 - py4j.java_gateway - INFO - Socket listening on ('127.0.0.1', 40449)\n2022-11-15 13:04:18,892 - py4j.java_gateway - INFO - Callback Connection ready to receive messages\n2022-11-15 13:04:18,893 - py4j.java_gateway - INFO - Received command c on object id p0\n2022-11-15 13:04:40,727 - OEA - INFO - Number of new inbound rows processed: 2\n"
          ]
        },
        {
          "output_type": "execute_result",
          "execution_count": 25,
          "data": {
            "text/plain": "2"
          },
          "metadata": {}
        }
      ],
      "execution_count": 7,
      "metadata": {
        "jupyter": {
          "source_hidden": false,
          "outputs_hidden": false
        },
        "nteract": {
          "transient": {
            "deleting": false
          }
        }
      }
    },
    {
      "cell_type": "code",
      "source": [
        "# 5) When data is ingested into stage2 of the data lake, OEA creates a lake db (which is a logical db that points to the data in the data lake).\r\n",
        "# In this example, since you are working in the 'sam' workspace, the lake db created is called 'ldb_sam_s2i_contoso_v0p1' (if you click on Data in the left nav, you'll see the db listed under 'Lake database' )\r\n",
        "df = spark.sql(\"select * from ldb_sam_s2i_contoso_v0p1.students\")\r\n",
        "display(df)\r\n",
        "#df.printSchema()"
      ],
      "outputs": [
        {
          "output_type": "display_data",
          "data": {
            "application/vnd.livy.statement-meta+json": {
              "spark_pool": "spark3p2sm",
              "session_id": "23",
              "statement_id": 8,
              "state": "finished",
              "livy_statement_state": "available",
              "queued_time": "2022-11-15T13:04:48.0581485Z",
              "session_start_time": null,
              "execution_start_time": "2022-11-15T13:04:48.1596162Z",
              "execution_finish_time": "2022-11-15T13:04:53.950376Z",
              "spark_jobs": null
            },
            "text/plain": "StatementMeta(spark3p2sm, 23, 8, Finished, Available)"
          },
          "metadata": {}
        },
        {
          "output_type": "display_data",
          "data": {
            "application/vnd.synapse.widget-view+json": {
              "widget_id": "6b22f793-8d23-482d-88a8-2ff27e83d560",
              "widget_type": "Synapse.DataFrame"
            },
            "text/plain": "SynapseWidget(Synapse.DataFrame, 6b22f793-8d23-482d-88a8-2ff27e83d560)"
          },
          "metadata": {}
        }
      ],
      "execution_count": 8,
      "metadata": {
        "jupyter": {
          "source_hidden": false,
          "outputs_hidden": false
        },
        "nteract": {
          "transient": {
            "deleting": false
          }
        },
        "collapsed": false
      }
    },
    {
      "cell_type": "code",
      "source": [
        "# 6) Now let's land some additional inbound batch data - with new and modified rows.\r\n",
        "data = oea.get_text_from_url('https://raw.githubusercontent.com/microsoft/OpenEduAnalytics/main/framework/test_data/contoso_sis/day2/students/part1.csv')\r\n",
        "oea.land(data, 'contoso/v0.1/students', 'students.csv', oea.DELTA_BATCH_DATA)"
      ],
      "outputs": [
        {
          "output_type": "display_data",
          "data": {
            "application/vnd.livy.statement-meta+json": {
              "spark_pool": "spark3p2sm",
              "session_id": "23",
              "statement_id": 9,
              "state": "finished",
              "livy_statement_state": "available",
              "queued_time": "2022-11-15T13:04:57.3547997Z",
              "session_start_time": null,
              "execution_start_time": "2022-11-15T13:04:57.7397745Z",
              "execution_finish_time": "2022-11-15T13:04:58.3166224Z",
              "spark_jobs": null
            },
            "text/plain": "StatementMeta(spark3p2sm, 23, 9, Finished, Available)"
          },
          "metadata": {}
        },
        {
          "output_type": "execute_result",
          "execution_count": 31,
          "data": {
            "text/plain": "'stage1/Transactional/contoso/v0.1/students/delta_batch_data/rundate=2022-11-15 13:04:57/students.csv'"
          },
          "metadata": {}
        }
      ],
      "execution_count": 9,
      "metadata": {
        "jupyter": {
          "source_hidden": false,
          "outputs_hidden": false
        },
        "nteract": {
          "transient": {
            "deleting": false
          }
        }
      }
    },
    {
      "cell_type": "code",
      "source": [
        "# 7) Ingest this latest batch of data.\r\n",
        "# Note that you don't have to specify what batch of data to process; OEA uses spark structured streaming to determine what files are new.\r\n",
        "oea.ingest(f'contoso/v0.1/students', 'SIS ID')"
      ],
      "outputs": [
        {
          "output_type": "display_data",
          "data": {
            "application/vnd.livy.statement-meta+json": {
              "spark_pool": "spark3p2sm",
              "session_id": "23",
              "statement_id": 11,
              "state": "finished",
              "livy_statement_state": "available",
              "queued_time": "2022-11-15T13:05:26.408053Z",
              "session_start_time": null,
              "execution_start_time": "2022-11-15T13:05:26.5123073Z",
              "execution_finish_time": "2022-11-15T13:05:28.3771389Z",
              "spark_jobs": null
            },
            "text/plain": "StatementMeta(spark3p2sm, 23, 11, Finished, Available)"
          },
          "metadata": {}
        },
        {
          "output_type": "stream",
          "name": "stdout",
          "text": [
            "2022-11-15 13:05:26,613 - OEA - INFO - Ingesting from: stage1/Transactional/contoso/v0.1/students, batch type of: delta, source data format of: csv\n2022-11-15 13:05:27,811 - OEA - INFO - Number of new inbound rows processed: 0\n"
          ]
        },
        {
          "output_type": "execute_result",
          "execution_count": 37,
          "data": {
            "text/plain": "0"
          },
          "metadata": {}
        }
      ],
      "execution_count": 11,
      "metadata": {
        "jupyter": {
          "source_hidden": false,
          "outputs_hidden": false
        },
        "nteract": {
          "transient": {
            "deleting": false
          }
        }
      }
    },
    {
      "cell_type": "code",
      "source": [
        "# 8) Now verify that the batch data was ingested and correctly merged with the previous data\r\n",
        "\r\n",
        "# You can load the ingested data into a dataframe directly like this...\r\n",
        "df = oea.load('stage2/Ingested/contoso/v0.1/students')\r\n",
        "display(df)\r\n",
        "\r\n",
        "# ...or you can use the automatically created \"Lake database\" like this:\r\n",
        "df = spark.sql(\"select * from ldb_sam_s2i_contoso_v0p1.students\")\r\n",
        "display(df)\r\n",
        "# with either approach, you're querying the same data - it's the data stored at oea/sandboxes/sam/stage2/Ingested/contoso/v0.1/students in your data lake"
      ],
      "outputs": [
        {
          "output_type": "display_data",
          "data": {
            "application/vnd.livy.statement-meta+json": {
              "spark_pool": "spark3p2sm",
              "session_id": "23",
              "statement_id": 12,
              "state": "finished",
              "livy_statement_state": "available",
              "queued_time": "2022-11-15T13:06:31.2477105Z",
              "session_start_time": null,
              "execution_start_time": "2022-11-15T13:06:31.3516757Z",
              "execution_finish_time": "2022-11-15T13:06:34.2416688Z",
              "spark_jobs": null
            },
            "text/plain": "StatementMeta(spark3p2sm, 23, 12, Finished, Available)"
          },
          "metadata": {}
        },
        {
          "output_type": "display_data",
          "data": {
            "application/vnd.synapse.widget-view+json": {
              "widget_id": "e10b1c1e-ea51-41de-b6f1-920647c7e8f6",
              "widget_type": "Synapse.DataFrame"
            },
            "text/plain": "SynapseWidget(Synapse.DataFrame, e10b1c1e-ea51-41de-b6f1-920647c7e8f6)"
          },
          "metadata": {}
        },
        {
          "output_type": "display_data",
          "data": {
            "application/vnd.synapse.widget-view+json": {
              "widget_id": "1ac1e1d5-5380-4d6a-9ddf-88390ecb86be",
              "widget_type": "Synapse.DataFrame"
            },
            "text/plain": "SynapseWidget(Synapse.DataFrame, 1ac1e1d5-5380-4d6a-9ddf-88390ecb86be)"
          },
          "metadata": {}
        }
      ],
      "execution_count": 12,
      "metadata": {
        "jupyter": {
          "source_hidden": false,
          "outputs_hidden": false
        },
        "nteract": {
          "transient": {
            "deleting": false
          }
        },
        "collapsed": false
      }
    },
    {
      "cell_type": "code",
      "source": [
        "# 9) After ingesting data, the next step is to refine the data through the use of metadata\r\n",
        "metadata = oea.get_metadata_from_url('https://raw.githubusercontent.com/microsoft/OpenEduAnalytics/main/framework/test_data/contoso_sis/metadata.csv')\r\n",
        "oea.refine('contoso/v0.1/students', metadata['students'], 'SIS ID')"
      ],
      "outputs": [
        {
          "output_type": "display_data",
          "data": {
            "application/vnd.livy.statement-meta+json": {
              "spark_pool": "spark3p2sm",
              "session_id": "23",
              "statement_id": 13,
              "state": "finished",
              "livy_statement_state": "available",
              "queued_time": "2022-11-15T13:06:39.2436277Z",
              "session_start_time": null,
              "execution_start_time": "2022-11-15T13:06:39.3644999Z",
              "execution_finish_time": "2022-11-15T13:06:59.1604959Z",
              "spark_jobs": null
            },
            "text/plain": "StatementMeta(spark3p2sm, 23, 13, Finished, Available)"
          },
          "metadata": {}
        },
        {
          "output_type": "stream",
          "name": "stdout",
          "text": [
            "2022-11-15 13:06:57,299 - OEA - INFO - Processed 3 updated rows from stage2/Ingested/contoso/v0.1/students into stage2/Refined\n"
          ]
        },
        {
          "output_type": "execute_result",
          "execution_count": 43,
          "data": {
            "text/plain": "3"
          },
          "metadata": {}
        }
      ],
      "execution_count": 13,
      "metadata": {
        "jupyter": {
          "source_hidden": false,
          "outputs_hidden": false
        },
        "nteract": {
          "transient": {
            "deleting": false
          }
        },
        "collapsed": false
      }
    },
    {
      "cell_type": "code",
      "source": [
        "# 11) Now you can query the refined data tables in the lake db\r\n",
        "df = spark.sql(\"select * from ldb_sam_s2r_contoso_v0p1.students\")\r\n",
        "display(df)\r\n",
        "df = spark.sql(\"select * from ldb_sam_s2r_contoso_v0p1.students_lookup\")\r\n",
        "display(df)\r\n",
        "# You can use the \"lookup\" table for joins (people with restricted access won't be able to perform this query because they won't have access to data in the \"sensitive\" folder in the data lake)\r\n",
        "df = spark.sql(\"select sl.Username, s.Grade from ldb_sam_s2r_contoso_v0p1.students_lookup sl, ldb_sam_s2r_contoso_v0p1.students s where sl.SIS_ID_pseudonym = s.SIS_ID_pseudonym\")\r\n",
        "display(df)"
      ],
      "outputs": [
        {
          "output_type": "display_data",
          "data": {
            "application/vnd.livy.statement-meta+json": {
              "spark_pool": "spark3p2sm",
              "session_id": "23",
              "statement_id": 14,
              "state": "finished",
              "livy_statement_state": "available",
              "queued_time": "2022-11-15T13:07:05.2079206Z",
              "session_start_time": null,
              "execution_start_time": "2022-11-15T13:07:05.3052308Z",
              "execution_finish_time": "2022-11-15T13:07:13.3009474Z",
              "spark_jobs": null
            },
            "text/plain": "StatementMeta(spark3p2sm, 23, 14, Finished, Available)"
          },
          "metadata": {}
        },
        {
          "output_type": "display_data",
          "data": {
            "application/vnd.synapse.widget-view+json": {
              "widget_id": "924a0bb4-69c8-4cc7-9aa8-5b0b3ad361e4",
              "widget_type": "Synapse.DataFrame"
            },
            "text/plain": "SynapseWidget(Synapse.DataFrame, 924a0bb4-69c8-4cc7-9aa8-5b0b3ad361e4)"
          },
          "metadata": {}
        },
        {
          "output_type": "display_data",
          "data": {
            "application/vnd.synapse.widget-view+json": {
              "widget_id": "4123933f-0954-45c3-a154-29f3d2c711aa",
              "widget_type": "Synapse.DataFrame"
            },
            "text/plain": "SynapseWidget(Synapse.DataFrame, 4123933f-0954-45c3-a154-29f3d2c711aa)"
          },
          "metadata": {}
        },
        {
          "output_type": "display_data",
          "data": {
            "application/vnd.synapse.widget-view+json": {
              "widget_id": "ac2ecca3-e71e-4dda-9d78-04d133992a19",
              "widget_type": "Synapse.DataFrame"
            },
            "text/plain": "SynapseWidget(Synapse.DataFrame, ac2ecca3-e71e-4dda-9d78-04d133992a19)"
          },
          "metadata": {}
        }
      ],
      "execution_count": 14,
      "metadata": {
        "jupyter": {
          "source_hidden": false,
          "outputs_hidden": false
        },
        "nteract": {
          "transient": {
            "deleting": false
          }
        },
        "collapsed": false
      }
    },
    {
      "cell_type": "code",
      "source": [
        "# 11) Land, ingest, and refine additional data sets.\r\n",
        "# These data sets demonstrate the 2 other types of batch data - additive and snapshot.\r\n",
        "data = oea.get_text_from_url('https://raw.githubusercontent.com/microsoft/OpenEduAnalytics/main/framework/test_data/contoso_sis/day1/studentattendance/part1.csv')\r\n",
        "oea.land(data, 'contoso/v0.1/studentattendance', 'part1.csv', oea.ADDITIVE_BATCH_DATA)\r\n",
        "data = oea.get_text_from_url('https://raw.githubusercontent.com/microsoft/OpenEduAnalytics/main/framework/test_data/contoso_sis/day2/studentattendance/part1.csv')\r\n",
        "oea.land(data, 'contoso/v0.1/studentattendance', 'part1.csv', oea.ADDITIVE_BATCH_DATA)\r\n",
        "\r\n",
        "\r\n",
        "data = oea.get_text_from_url('https://raw.githubusercontent.com/microsoft/OpenEduAnalytics/main/framework/test_data/contoso_sis/day1/studentsectionmark/part1.csv')\r\n",
        "oea.land(data, 'contoso/v0.1/studentsectionmark', 'part1.csv', oea.SNAPSHOT_BATCH_DATA)\r\n",
        "data = oea.get_text_from_url('https://raw.githubusercontent.com/microsoft/OpenEduAnalytics/main/framework/test_data/contoso_sis/day2/studentsectionmark/part1.csv')\r\n",
        "oea.land(data, 'contoso/v0.1/studentsectionmark', 'part1.csv', oea.SNAPSHOT_BATCH_DATA)\r\n",
        "\r\n",
        "oea.ingest(f'contoso/v0.1/studentattendance', 'id')\r\n",
        "oea.ingest(f'contoso/v0.1/studentsectionmark', 'id')\r\n",
        "\r\n",
        "metadata = oea.get_metadata_from_url('https://raw.githubusercontent.com/microsoft/OpenEduAnalytics/main/framework/test_data/contoso_sis/metadata.csv')\r\n",
        "oea.refine('contoso/v0.1/studentattendance', metadata['studentattendance'], 'id')\r\n",
        "oea.refine('contoso/v0.1/studentsectionmark', metadata['studentsectionmark'], 'id')"
      ],
      "outputs": [
        {
          "output_type": "display_data",
          "data": {
            "application/vnd.livy.statement-meta+json": {
              "spark_pool": "spark3p2sm",
              "session_id": "23",
              "statement_id": 19,
              "state": "finished",
              "livy_statement_state": "available",
              "queued_time": "2022-11-15T13:13:24.3610461Z",
              "session_start_time": null,
              "execution_start_time": "2022-11-15T13:13:24.4624976Z",
              "execution_finish_time": "2022-11-15T13:13:45.8965388Z",
              "spark_jobs": null
            },
            "text/plain": "StatementMeta(spark3p2sm, 23, 19, Finished, Available)"
          },
          "metadata": {}
        },
        {
          "output_type": "stream",
          "name": "stdout",
          "text": [
            "2022-11-15 13:13:25,935 - OEA - INFO - Ingesting from: stage1/Transactional/contoso/v0.1/studentattendance, batch type of: additive, source data format of: csv\n2022-11-15 13:13:27,802 - py4j.java_gateway - INFO - Callback Connection ready to receive messages\n2022-11-15 13:13:27,803 - py4j.java_gateway - INFO - Received command c on object id p10\n2022-11-15 13:13:30,160 - OEA - INFO - Number of new inbound rows processed: 4392\n2022-11-15 13:13:30,429 - OEA - INFO - Ingesting from: stage1/Transactional/contoso/v0.1/studentsectionmark, batch type of: snapshot, source data format of: csv\n2022-11-15 13:13:31,918 - py4j.java_gateway - INFO - Received command c on object id p11\n2022-11-15 13:13:34,297 - OEA - INFO - Number of new inbound rows processed: 24\n"
          ]
        },
        {
          "output_type": "error",
          "ename": "Py4JJavaError",
          "evalue": "An error occurred while calling o3251.execute.\n: java.lang.UnsupportedOperationException: Cannot perform Merge as multiple source rows matched and attempted to modify the same\ntarget row in the Delta table in possibly conflicting ways. By SQL semantics of Merge,\nwhen multiple source rows match on the same target row, the result may be ambiguous\nas it is unclear which source row should be used to update or delete the matching\ntarget row. You can preprocess the source table to eliminate the possibility of\nmultiple matches. Please refer to\nhttps://docs.delta.io/latest/delta-update.html#upsert-into-a-table-using-merge\n\tat org.apache.spark.sql.delta.DeltaErrors$.multipleSourceRowMatchingTargetRowInMergeException(DeltaErrors.scala:718)\n\tat org.apache.spark.sql.delta.commands.MergeIntoCommand.$anonfun$findTouchedFiles$1(MergeIntoCommand.scala:423)\n\tat org.apache.spark.sql.delta.commands.MergeIntoCommand.recordMergeOperation(MergeIntoCommand.scala:735)\n\tat org.apache.spark.sql.delta.commands.MergeIntoCommand.findTouchedFiles(MergeIntoCommand.scala:367)\n\tat org.apache.spark.sql.delta.commands.MergeIntoCommand.$anonfun$run$2(MergeIntoCommand.scala:313)\n\tat org.apache.spark.sql.delta.commands.MergeIntoCommand.$anonfun$run$2$adapted(MergeIntoCommand.scala:295)\n\tat org.apache.spark.sql.delta.DeltaLog.withNewTransaction(DeltaLog.scala:226)\n\tat org.apache.spark.sql.delta.commands.MergeIntoCommand.$anonfun$run$1(MergeIntoCommand.scala:295)\n\tat scala.runtime.java8.JFunction0$mcV$sp.apply(JFunction0$mcV$sp.java:23)\n\tat org.apache.spark.sql.delta.metering.DeltaLogging.recordFrameProfile(DeltaLogging.scala:121)\n\tat org.apache.spark.sql.delta.metering.DeltaLogging.recordFrameProfile$(DeltaLogging.scala:119)\n\tat org.apache.spark.sql.delta.commands.MergeIntoCommand.recordFrameProfile(MergeIntoCommand.scala:210)\n\tat org.apache.spark.sql.delta.metering.DeltaLogging.$anonfun$recordDeltaOperation$5(DeltaLogging.scala:115)\n\tat com.microsoft.spark.telemetry.delta.SynapseLoggingShim.recordOperation(SynapseLoggingShim.scala:95)\n\tat com.microsoft.spark.telemetry.delta.SynapseLoggingShim.recordOperation$(SynapseLoggingShim.scala:81)\n\tat org.apache.spark.sql.delta.commands.MergeIntoCommand.recordOperation(MergeIntoCommand.scala:210)\n\tat org.apache.spark.sql.delta.metering.DeltaLogging.recordDeltaOperation(DeltaLogging.scala:114)\n\tat org.apache.spark.sql.delta.metering.DeltaLogging.recordDeltaOperation$(DeltaLogging.scala:99)\n\tat org.apache.spark.sql.delta.commands.MergeIntoCommand.recordDeltaOperation(MergeIntoCommand.scala:210)\n\tat org.apache.spark.sql.delta.commands.MergeIntoCommand.run(MergeIntoCommand.scala:293)\n\tat io.delta.tables.DeltaMergeBuilder.$anonfun$execute$1(DeltaMergeBuilder.scala:231)\n\tat org.apache.spark.sql.delta.util.AnalysisHelper.improveUnsupportedOpError(AnalysisHelper.scala:105)\n\tat org.apache.spark.sql.delta.util.AnalysisHelper.improveUnsupportedOpError$(AnalysisHelper.scala:91)\n\tat io.delta.tables.DeltaMergeBuilder.improveUnsupportedOpError(DeltaMergeBuilder.scala:123)\n\tat io.delta.tables.DeltaMergeBuilder.execute(DeltaMergeBuilder.scala:207)\n\tat sun.reflect.NativeMethodAccessorImpl.invoke0(Native Method)\n\tat sun.reflect.NativeMethodAccessorImpl.invoke(NativeMethodAccessorImpl.java:62)\n\tat sun.reflect.DelegatingMethodAccessorImpl.invoke(DelegatingMethodAccessorImpl.java:43)\n\tat java.lang.reflect.Method.invoke(Method.java:498)\n\tat py4j.reflection.MethodInvoker.invoke(MethodInvoker.java:244)\n\tat py4j.reflection.ReflectionEngine.invoke(ReflectionEngine.java:357)\n\tat py4j.Gateway.invoke(Gateway.java:282)\n\tat py4j.commands.AbstractCommand.invokeMethod(AbstractCommand.java:132)\n\tat py4j.commands.CallCommand.execute(CallCommand.java:79)\n\tat py4j.GatewayConnection.run(GatewayConnection.java:238)\n\tat java.lang.Thread.run(Thread.java:750)\n",
          "traceback": [
            "\u001b[0;31m---------------------------------------------------------------------------\u001b[0m",
            "\u001b[0;31mPy4JJavaError\u001b[0m                             Traceback (most recent call last)",
            "\u001b[0;32m<ipython-input-19-1dee26ec>\u001b[0m in \u001b[0;36m<module>\u001b[0;34m\u001b[0m\n\u001b[1;32m     16\u001b[0m \u001b[0;34m\u001b[0m\u001b[0m\n\u001b[1;32m     17\u001b[0m \u001b[0mmetadata\u001b[0m \u001b[0;34m=\u001b[0m \u001b[0moea\u001b[0m\u001b[0;34m.\u001b[0m\u001b[0mget_metadata_from_url\u001b[0m\u001b[0;34m(\u001b[0m\u001b[0;34m'https://raw.githubusercontent.com/microsoft/OpenEduAnalytics/main/framework/test_data/contoso_sis/metadata.csv'\u001b[0m\u001b[0;34m)\u001b[0m\u001b[0;34m\u001b[0m\u001b[0;34m\u001b[0m\u001b[0m\n\u001b[0;32m---> 18\u001b[0;31m \u001b[0moea\u001b[0m\u001b[0;34m.\u001b[0m\u001b[0mrefine\u001b[0m\u001b[0;34m(\u001b[0m\u001b[0;34m'contoso/v0.1/studentattendance'\u001b[0m\u001b[0;34m,\u001b[0m \u001b[0mmetadata\u001b[0m\u001b[0;34m[\u001b[0m\u001b[0;34m'studentattendance'\u001b[0m\u001b[0;34m]\u001b[0m\u001b[0;34m,\u001b[0m \u001b[0;34m'id'\u001b[0m\u001b[0;34m)\u001b[0m\u001b[0;34m\u001b[0m\u001b[0;34m\u001b[0m\u001b[0m\n\u001b[0m\u001b[1;32m     19\u001b[0m \u001b[0moea\u001b[0m\u001b[0;34m.\u001b[0m\u001b[0mrefine\u001b[0m\u001b[0;34m(\u001b[0m\u001b[0;34m'contoso/v0.1/studentsectionmark'\u001b[0m\u001b[0;34m,\u001b[0m \u001b[0mmetadata\u001b[0m\u001b[0;34m[\u001b[0m\u001b[0;34m'studentsectionmark'\u001b[0m\u001b[0;34m]\u001b[0m\u001b[0;34m,\u001b[0m \u001b[0;34m'id'\u001b[0m\u001b[0;34m)\u001b[0m\u001b[0;34m\u001b[0m\u001b[0;34m\u001b[0m\u001b[0m\n",
            "\u001b[0;32m<ipython-input-2-1dee26ec>\u001b[0m in \u001b[0;36mrefine\u001b[0;34m(self, source_path, metadata, primary_key)\u001b[0m\n",
            "\u001b[0;32m<ipython-input-2-1dee26ec>\u001b[0m in \u001b[0;36mupsert\u001b[0;34m(self, df, destination_path, primary_key)\u001b[0m\n",
            "\u001b[0;32m/usr/hdp/current/spark3-client/jars/delta-core_2.12-1.2.1.6.jar/delta/tables.py\u001b[0m in \u001b[0;36mexecute\u001b[0;34m(self)\u001b[0m\n\u001b[1;32m    928\u001b[0m         \u001b[0mSee\u001b[0m \u001b[0;34m:\u001b[0m\u001b[0mpy\u001b[0m\u001b[0;34m:\u001b[0m\u001b[0;32mclass\u001b[0m\u001b[0;34m:\u001b[0m\u001b[0;31m`\u001b[0m\u001b[0;34m~\u001b[0m\u001b[0mdelta\u001b[0m\u001b[0;34m.\u001b[0m\u001b[0mtables\u001b[0m\u001b[0;34m.\u001b[0m\u001b[0mDeltaMergeBuilder\u001b[0m\u001b[0;31m`\u001b[0m \u001b[0;32mfor\u001b[0m \u001b[0mcomplete\u001b[0m \u001b[0musage\u001b[0m \u001b[0mdetails\u001b[0m\u001b[0;34m.\u001b[0m\u001b[0;34m\u001b[0m\u001b[0;34m\u001b[0m\u001b[0m\n\u001b[1;32m    929\u001b[0m         \"\"\"\n\u001b[0;32m--> 930\u001b[0;31m         \u001b[0mself\u001b[0m\u001b[0;34m.\u001b[0m\u001b[0m_jbuilder\u001b[0m\u001b[0;34m.\u001b[0m\u001b[0mexecute\u001b[0m\u001b[0;34m(\u001b[0m\u001b[0;34m)\u001b[0m\u001b[0;34m\u001b[0m\u001b[0;34m\u001b[0m\u001b[0m\n\u001b[0m\u001b[1;32m    931\u001b[0m \u001b[0;34m\u001b[0m\u001b[0m\n\u001b[1;32m    932\u001b[0m     def __getMatchedBuilder(\n",
            "\u001b[0;32m~/cluster-env/env/lib/python3.8/site-packages/py4j/java_gateway.py\u001b[0m in \u001b[0;36m__call__\u001b[0;34m(self, *args)\u001b[0m\n\u001b[1;32m   1319\u001b[0m \u001b[0;34m\u001b[0m\u001b[0m\n\u001b[1;32m   1320\u001b[0m         \u001b[0manswer\u001b[0m \u001b[0;34m=\u001b[0m \u001b[0mself\u001b[0m\u001b[0;34m.\u001b[0m\u001b[0mgateway_client\u001b[0m\u001b[0;34m.\u001b[0m\u001b[0msend_command\u001b[0m\u001b[0;34m(\u001b[0m\u001b[0mcommand\u001b[0m\u001b[0;34m)\u001b[0m\u001b[0;34m\u001b[0m\u001b[0;34m\u001b[0m\u001b[0m\n\u001b[0;32m-> 1321\u001b[0;31m         return_value = get_return_value(\n\u001b[0m\u001b[1;32m   1322\u001b[0m             answer, self.gateway_client, self.target_id, self.name)\n\u001b[1;32m   1323\u001b[0m \u001b[0;34m\u001b[0m\u001b[0m\n",
            "\u001b[0;32m/opt/spark/python/lib/pyspark.zip/pyspark/sql/utils.py\u001b[0m in \u001b[0;36mdeco\u001b[0;34m(*a, **kw)\u001b[0m\n\u001b[1;32m    109\u001b[0m     \u001b[0;32mdef\u001b[0m \u001b[0mdeco\u001b[0m\u001b[0;34m(\u001b[0m\u001b[0;34m*\u001b[0m\u001b[0ma\u001b[0m\u001b[0;34m,\u001b[0m \u001b[0;34m**\u001b[0m\u001b[0mkw\u001b[0m\u001b[0;34m)\u001b[0m\u001b[0;34m:\u001b[0m\u001b[0;34m\u001b[0m\u001b[0;34m\u001b[0m\u001b[0m\n\u001b[1;32m    110\u001b[0m         \u001b[0;32mtry\u001b[0m\u001b[0;34m:\u001b[0m\u001b[0;34m\u001b[0m\u001b[0;34m\u001b[0m\u001b[0m\n\u001b[0;32m--> 111\u001b[0;31m             \u001b[0;32mreturn\u001b[0m \u001b[0mf\u001b[0m\u001b[0;34m(\u001b[0m\u001b[0;34m*\u001b[0m\u001b[0ma\u001b[0m\u001b[0;34m,\u001b[0m \u001b[0;34m**\u001b[0m\u001b[0mkw\u001b[0m\u001b[0;34m)\u001b[0m\u001b[0;34m\u001b[0m\u001b[0;34m\u001b[0m\u001b[0m\n\u001b[0m\u001b[1;32m    112\u001b[0m         \u001b[0;32mexcept\u001b[0m \u001b[0mpy4j\u001b[0m\u001b[0;34m.\u001b[0m\u001b[0mprotocol\u001b[0m\u001b[0;34m.\u001b[0m\u001b[0mPy4JJavaError\u001b[0m \u001b[0;32mas\u001b[0m \u001b[0me\u001b[0m\u001b[0;34m:\u001b[0m\u001b[0;34m\u001b[0m\u001b[0;34m\u001b[0m\u001b[0m\n\u001b[1;32m    113\u001b[0m             \u001b[0mconverted\u001b[0m \u001b[0;34m=\u001b[0m \u001b[0mconvert_exception\u001b[0m\u001b[0;34m(\u001b[0m\u001b[0me\u001b[0m\u001b[0;34m.\u001b[0m\u001b[0mjava_exception\u001b[0m\u001b[0;34m)\u001b[0m\u001b[0;34m\u001b[0m\u001b[0;34m\u001b[0m\u001b[0m\n",
            "\u001b[0;32m~/cluster-env/env/lib/python3.8/site-packages/py4j/protocol.py\u001b[0m in \u001b[0;36mget_return_value\u001b[0;34m(answer, gateway_client, target_id, name)\u001b[0m\n\u001b[1;32m    324\u001b[0m             \u001b[0mvalue\u001b[0m \u001b[0;34m=\u001b[0m \u001b[0mOUTPUT_CONVERTER\u001b[0m\u001b[0;34m[\u001b[0m\u001b[0mtype\u001b[0m\u001b[0;34m]\u001b[0m\u001b[0;34m(\u001b[0m\u001b[0manswer\u001b[0m\u001b[0;34m[\u001b[0m\u001b[0;36m2\u001b[0m\u001b[0;34m:\u001b[0m\u001b[0;34m]\u001b[0m\u001b[0;34m,\u001b[0m \u001b[0mgateway_client\u001b[0m\u001b[0;34m)\u001b[0m\u001b[0;34m\u001b[0m\u001b[0;34m\u001b[0m\u001b[0m\n\u001b[1;32m    325\u001b[0m             \u001b[0;32mif\u001b[0m \u001b[0manswer\u001b[0m\u001b[0;34m[\u001b[0m\u001b[0;36m1\u001b[0m\u001b[0;34m]\u001b[0m \u001b[0;34m==\u001b[0m \u001b[0mREFERENCE_TYPE\u001b[0m\u001b[0;34m:\u001b[0m\u001b[0;34m\u001b[0m\u001b[0;34m\u001b[0m\u001b[0m\n\u001b[0;32m--> 326\u001b[0;31m                 raise Py4JJavaError(\n\u001b[0m\u001b[1;32m    327\u001b[0m                     \u001b[0;34m\"An error occurred while calling {0}{1}{2}.\\n\"\u001b[0m\u001b[0;34m.\u001b[0m\u001b[0;34m\u001b[0m\u001b[0;34m\u001b[0m\u001b[0m\n\u001b[1;32m    328\u001b[0m                     format(target_id, \".\", name), value)\n",
            "\u001b[0;31mPy4JJavaError\u001b[0m: An error occurred while calling o3251.execute.\n: java.lang.UnsupportedOperationException: Cannot perform Merge as multiple source rows matched and attempted to modify the same\ntarget row in the Delta table in possibly conflicting ways. By SQL semantics of Merge,\nwhen multiple source rows match on the same target row, the result may be ambiguous\nas it is unclear which source row should be used to update or delete the matching\ntarget row. You can preprocess the source table to eliminate the possibility of\nmultiple matches. Please refer to\nhttps://docs.delta.io/latest/delta-update.html#upsert-into-a-table-using-merge\n\tat org.apache.spark.sql.delta.DeltaErrors$.multipleSourceRowMatchingTargetRowInMergeException(DeltaErrors.scala:718)\n\tat org.apache.spark.sql.delta.commands.MergeIntoCommand.$anonfun$findTouchedFiles$1(MergeIntoCommand.scala:423)\n\tat org.apache.spark.sql.delta.commands.MergeIntoCommand.recordMergeOperation(MergeIntoCommand.scala:735)\n\tat org.apache.spark.sql.delta.commands.MergeIntoCommand.findTouchedFiles(MergeIntoCommand.scala:367)\n\tat org.apache.spark.sql.delta.commands.MergeIntoCommand.$anonfun$run$2(MergeIntoCommand.scala:313)\n\tat org.apache.spark.sql.delta.commands.MergeIntoCommand.$anonfun$run$2$adapted(MergeIntoCommand.scala:295)\n\tat org.apache.spark.sql.delta.DeltaLog.withNewTransaction(DeltaLog.scala:226)\n\tat org.apache.spark.sql.delta.commands.MergeIntoCommand.$anonfun$run$1(MergeIntoCommand.scala:295)\n\tat scala.runtime.java8.JFunction0$mcV$sp.apply(JFunction0$mcV$sp.java:23)\n\tat org.apache.spark.sql.delta.metering.DeltaLogging.recordFrameProfile(DeltaLogging.scala:121)\n\tat org.apache.spark.sql.delta.metering.DeltaLogging.recordFrameProfile$(DeltaLogging.scala:119)\n\tat org.apache.spark.sql.delta.commands.MergeIntoCommand.recordFrameProfile(MergeIntoCommand.scala:210)\n\tat org.apache.spark.sql.delta.metering.DeltaLogging.$anonfun$recordDeltaOperation$5(DeltaLogging.scala:115)\n\tat com.microsoft.spark.telemetry.delta.SynapseLoggingShim.recordOperation(SynapseLoggingShim.scala:95)\n\tat com.microsoft.spark.telemetry.delta.SynapseLoggingShim.recordOperation$(SynapseLoggingShim.scala:81)\n\tat org.apache.spark.sql.delta.commands.MergeIntoCommand.recordOperation(MergeIntoCommand.scala:210)\n\tat org.apache.spark.sql.delta.metering.DeltaLogging.recordDeltaOperation(DeltaLogging.scala:114)\n\tat org.apache.spark.sql.delta.metering.DeltaLogging.recordDeltaOperation$(DeltaLogging.scala:99)\n\tat org.apache.spark.sql.delta.commands.MergeIntoCommand.recordDeltaOperation(MergeIntoCommand.scala:210)\n\tat org.apache.spark.sql.delta.commands.MergeIntoCommand.run(MergeIntoCommand.scala:293)\n\tat io.delta.tables.DeltaMergeBuilder.$anonfun$execute$1(DeltaMergeBuilder.scala:231)\n\tat org.apache.spark.sql.delta.util.AnalysisHelper.improveUnsupportedOpError(AnalysisHelper.scala:105)\n\tat org.apache.spark.sql.delta.util.AnalysisHelper.improveUnsupportedOpError$(AnalysisHelper.scala:91)\n\tat io.delta.tables.DeltaMergeBuilder.improveUnsupportedOpError(DeltaMergeBuilder.scala:123)\n\tat io.delta.tables.DeltaMergeBuilder.execute(DeltaMergeBuilder.scala:207)\n\tat sun.reflect.NativeMethodAccessorImpl.invoke0(Native Method)\n\tat sun.reflect.NativeMethodAccessorImpl.invoke(NativeMethodAccessorImpl.java:62)\n\tat sun.reflect.DelegatingMethodAccessorImpl.invoke(DelegatingMethodAccessorImpl.java:43)\n\tat java.lang.reflect.Method.invoke(Method.java:498)\n\tat py4j.reflection.MethodInvoker.invoke(MethodInvoker.java:244)\n\tat py4j.reflection.ReflectionEngine.invoke(ReflectionEngine.java:357)\n\tat py4j.Gateway.invoke(Gateway.java:282)\n\tat py4j.commands.AbstractCommand.invokeMethod(AbstractCommand.java:132)\n\tat py4j.commands.CallCommand.execute(CallCommand.java:79)\n\tat py4j.GatewayConnection.run(GatewayConnection.java:238)\n\tat java.lang.Thread.run(Thread.java:750)\n"
          ]
        }
      ],
      "execution_count": 19,
      "metadata": {
        "jupyter": {
          "source_hidden": false,
          "outputs_hidden": false
        },
        "nteract": {
          "transient": {
            "deleting": false
          }
        }
      }
    },
    {
      "cell_type": "code",
      "source": [
        "# 12) Reset this example\r\n",
        "oea.delete('stage1/Transactional/contoso')\r\n",
        "oea.delete('stage2/Ingested/contoso')\r\n",
        "oea.delete('stage2/Refined/contoso')\r\n",
        "oea.drop_lake_db('ldb_sam_s2i_contoso_v0p1')\r\n",
        "oea.drop_lake_db('ldb_sam_s2r_contoso_v0p1')"
      ],
      "outputs": [
        {
          "output_type": "display_data",
          "data": {
            "application/vnd.livy.statement-meta+json": {
              "spark_pool": "spark3p2sm",
              "session_id": "23",
              "statement_id": 17,
              "state": "finished",
              "livy_statement_state": "available",
              "queued_time": "2022-11-15T13:12:00.4608326Z",
              "session_start_time": null,
              "execution_start_time": "2022-11-15T13:12:00.5673813Z",
              "execution_finish_time": "2022-11-15T13:12:04.6035172Z",
              "spark_jobs": null
            },
            "text/plain": "StatementMeta(spark3p2sm, 23, 17, Finished, Available)"
          },
          "metadata": {}
        },
        {
          "output_type": "stream",
          "name": "stdout",
          "text": [
            "2022-11-15 13:12:02,837 - OEA - INFO - Database dropped: ldb_sam_s2i_contoso_v0p1\n2022-11-15 13:12:04,020 - OEA - INFO - Database dropped: ldb_sam_s2r_contoso_v0p1\n"
          ]
        },
        {
          "output_type": "execute_result",
          "execution_count": 55,
          "data": {
            "text/plain": "'Database dropped: ldb_sam_s2r_contoso_v0p1'"
          },
          "metadata": {}
        }
      ],
      "execution_count": 17,
      "metadata": {
        "jupyter": {
          "source_hidden": false,
          "outputs_hidden": false
        },
        "nteract": {
          "transient": {
            "deleting": false
          }
        }
      }
    },
    {
      "cell_type": "markdown",
      "source": [
        "# Appendix"
      ],
      "metadata": {
        "nteract": {
          "transient": {
            "deleting": false
          }
        }
      }
    },
    {
      "cell_type": "code",
      "source": [
        "# You can list the contents of a folder in the data lake like this:\r\n",
        "print(oea.ls('stage1/Transactional/contoso/v0.1/students/delta_batch_data'))\r\n",
        "print(oea.ls('stage2/Ingested/contoso/v0.1/students'))"
      ],
      "outputs": [],
      "execution_count": null,
      "metadata": {
        "jupyter": {
          "source_hidden": false,
          "outputs_hidden": false
        },
        "nteract": {
          "transient": {
            "deleting": false
          }
        }
      }
    },
    {
      "cell_type": "code",
      "source": [
        "dtbl = DeltaTable.forPath(spark, oea.to_url('stage2/Refined/contoso/v0.1/sensitive/students_lookup'))\r\n",
        "display(dtbl.toDF())\r\n",
        "#dtbl.delete(\"rundate > '2022-11-04T14:39:51'\")"
      ],
      "outputs": [],
      "execution_count": null,
      "metadata": {
        "jupyter": {
          "source_hidden": false,
          "outputs_hidden": false
        },
        "nteract": {
          "transient": {
            "deleting": false
          }
        },
        "collapsed": false
      }
    }
  ],
  "metadata": {
    "kernelspec": {
      "name": "synapse_pyspark",
      "language": "Python",
      "display_name": "Synapse PySpark"
    },
    "language_info": {
      "name": "python"
    },
    "kernel_info": {
      "name": "synapse_pyspark"
    },
    "save_output": true,
    "synapse_widget": {
      "version": "0.1",
      "state": {
        "76e539ce-6408-4e5d-abd7-f4a5572bdfb1": {
          "type": "Synapse.DataFrame",
          "sync_state": {
            "table": {
              "rows": [
                {
                  "0": "st1",
                  "1": "sch0",
                  "2": "albertibarra1",
                  "3": "Albert",
                  "4": "Ibarra",
                  "5": "David",
                  "6": "albertibarra1@Classrmtest86.org",
                  "7": "1",
                  "8": "11",
                  "9": "123",
                  "10": "Active",
                  "11": "4/2/2004",
                  "12": "2020",
                  "13": "Male",
                  "14": "American Indian",
                  "15": "English",
                  "18": "0",
                  "19": "3.33",
                  "20": "2022-11-15 13:03:25"
                },
                {
                  "0": "st4",
                  "1": "sch0",
                  "2": "jonsmith",
                  "3": "Jon",
                  "4": "Smith",
                  "5": "Joseph",
                  "6": "jonsmith@Classrmtest86.org",
                  "7": "4",
                  "8": "11",
                  "9": "126",
                  "10": "Active",
                  "11": "4/4/2004",
                  "12": "2020",
                  "13": "Male",
                  "14": "American Indian",
                  "15": "English",
                  "18": "0",
                  "19": "3.43",
                  "20": "2022-11-15 13:03:25"
                }
              ],
              "schema": [
                {
                  "key": "0",
                  "name": "SIS ID",
                  "type": "string"
                },
                {
                  "key": "1",
                  "name": "School SIS ID",
                  "type": "string"
                },
                {
                  "key": "2",
                  "name": "Username",
                  "type": "string"
                },
                {
                  "key": "3",
                  "name": "First Name",
                  "type": "string"
                },
                {
                  "key": "4",
                  "name": "Last Name",
                  "type": "string"
                },
                {
                  "key": "5",
                  "name": "Middle Name",
                  "type": "string"
                },
                {
                  "key": "6",
                  "name": "Secondary Email",
                  "type": "string"
                },
                {
                  "key": "7",
                  "name": "Student Number",
                  "type": "string"
                },
                {
                  "key": "8",
                  "name": "Grade",
                  "type": "string"
                },
                {
                  "key": "9",
                  "name": "State ID",
                  "type": "string"
                },
                {
                  "key": "10",
                  "name": "Status",
                  "type": "string"
                },
                {
                  "key": "11",
                  "name": "Birthdate",
                  "type": "string"
                },
                {
                  "key": "12",
                  "name": "Graduation Year",
                  "type": "string"
                },
                {
                  "key": "13",
                  "name": "Gender",
                  "type": "string"
                },
                {
                  "key": "14",
                  "name": "FederalRaceCategory",
                  "type": "string"
                },
                {
                  "key": "15",
                  "name": "PrimaryLanguage",
                  "type": "string"
                },
                {
                  "key": "16",
                  "name": "ELLStatus",
                  "type": "string"
                },
                {
                  "key": "17",
                  "name": "SpecialEducation",
                  "type": "string"
                },
                {
                  "key": "18",
                  "name": "LowIncome",
                  "type": "string"
                },
                {
                  "key": "19",
                  "name": "CumulativeGPA",
                  "type": "string"
                },
                {
                  "key": "20",
                  "name": "rundate",
                  "type": "timestamp"
                }
              ],
              "truncated": false
            },
            "isSummary": false,
            "language": "scala"
          },
          "persist_state": {
            "view": {
              "type": "details",
              "tableOptions": {},
              "chartOptions": {
                "chartType": "bar",
                "aggregationType": "count",
                "categoryFieldKeys": [
                  "0"
                ],
                "seriesFieldKeys": [
                  "0"
                ],
                "isStacked": false
              }
            }
          }
        },
        "6b22f793-8d23-482d-88a8-2ff27e83d560": {
          "type": "Synapse.DataFrame",
          "sync_state": {
            "table": {
              "rows": [
                {
                  "0": "st1",
                  "1": "sch0",
                  "2": "albertibarra1",
                  "3": "Albert",
                  "4": "Ibarra",
                  "5": "David",
                  "6": "albertibarra1@Classrmtest86.org",
                  "7": "1",
                  "8": "11",
                  "9": "123",
                  "10": "Active",
                  "11": "4/2/2004",
                  "12": "2020",
                  "13": "Male",
                  "14": "American Indian",
                  "15": "English",
                  "18": "0",
                  "19": "3.33",
                  "20": "2022-11-15 13:03:25"
                },
                {
                  "0": "st4",
                  "1": "sch0",
                  "2": "jonsmith",
                  "3": "Jon",
                  "4": "Smith",
                  "5": "Joseph",
                  "6": "jonsmith@Classrmtest86.org",
                  "7": "4",
                  "8": "11",
                  "9": "126",
                  "10": "Active",
                  "11": "4/4/2004",
                  "12": "2020",
                  "13": "Male",
                  "14": "American Indian",
                  "15": "English",
                  "18": "0",
                  "19": "3.43",
                  "20": "2022-11-15 13:03:25"
                }
              ],
              "schema": [
                {
                  "key": "0",
                  "name": "SIS_ID",
                  "type": "string"
                },
                {
                  "key": "1",
                  "name": "School_SIS_ID",
                  "type": "string"
                },
                {
                  "key": "2",
                  "name": "Username",
                  "type": "string"
                },
                {
                  "key": "3",
                  "name": "First_Name",
                  "type": "string"
                },
                {
                  "key": "4",
                  "name": "Last_Name",
                  "type": "string"
                },
                {
                  "key": "5",
                  "name": "Middle_Name",
                  "type": "string"
                },
                {
                  "key": "6",
                  "name": "Secondary_Email",
                  "type": "string"
                },
                {
                  "key": "7",
                  "name": "Student_Number",
                  "type": "string"
                },
                {
                  "key": "8",
                  "name": "Grade",
                  "type": "string"
                },
                {
                  "key": "9",
                  "name": "State_ID",
                  "type": "string"
                },
                {
                  "key": "10",
                  "name": "Status",
                  "type": "string"
                },
                {
                  "key": "11",
                  "name": "Birthdate",
                  "type": "string"
                },
                {
                  "key": "12",
                  "name": "Graduation_Year",
                  "type": "string"
                },
                {
                  "key": "13",
                  "name": "Gender",
                  "type": "string"
                },
                {
                  "key": "14",
                  "name": "FederalRaceCategory",
                  "type": "string"
                },
                {
                  "key": "15",
                  "name": "PrimaryLanguage",
                  "type": "string"
                },
                {
                  "key": "16",
                  "name": "ELLStatus",
                  "type": "string"
                },
                {
                  "key": "17",
                  "name": "SpecialEducation",
                  "type": "string"
                },
                {
                  "key": "18",
                  "name": "LowIncome",
                  "type": "string"
                },
                {
                  "key": "19",
                  "name": "CumulativeGPA",
                  "type": "string"
                },
                {
                  "key": "20",
                  "name": "rundate",
                  "type": "timestamp"
                }
              ],
              "truncated": false
            },
            "isSummary": false,
            "language": "scala"
          },
          "persist_state": {
            "view": {
              "type": "details",
              "tableOptions": {},
              "chartOptions": {
                "chartType": "bar",
                "aggregationType": "count",
                "categoryFieldKeys": [
                  "0"
                ],
                "seriesFieldKeys": [
                  "0"
                ],
                "isStacked": false
              }
            }
          }
        },
        "e10b1c1e-ea51-41de-b6f1-920647c7e8f6": {
          "type": "Synapse.DataFrame",
          "sync_state": {
            "table": {
              "rows": [
                {
                  "0": "st1",
                  "1": "sch0",
                  "2": "albertibarra1",
                  "3": "Al",
                  "4": "Ibarra",
                  "5": "David",
                  "6": "albertibarra1@Classrmtest86.org",
                  "7": "1",
                  "8": "11",
                  "9": "123",
                  "10": "Active",
                  "11": "4/2/2004",
                  "12": "2020",
                  "13": "Male",
                  "14": "American Indian",
                  "15": "English",
                  "18": "0",
                  "19": "3.33",
                  "20": "2022-11-15 13:04:57"
                },
                {
                  "0": "st2",
                  "1": "sch0",
                  "2": "sharonhenderson2",
                  "3": "Sharon",
                  "4": "Henderson",
                  "5": "Elizabeth",
                  "6": "sharonhenderson2@Classrmtest86.org",
                  "7": "2",
                  "8": "12",
                  "9": "123",
                  "10": "Active",
                  "11": "4/2/2004",
                  "12": "2020",
                  "13": "Male",
                  "14": "Black",
                  "15": "English",
                  "17": "Resource Specialty Program",
                  "18": "0",
                  "19": "0.423",
                  "20": "2022-11-15 13:04:57"
                },
                {
                  "0": "st4",
                  "1": "sch0",
                  "2": "jonsmith",
                  "3": "Jon",
                  "4": "Smith",
                  "5": "Joseph",
                  "6": "jonsmith@Classrmtest86.org",
                  "7": "4",
                  "8": "11",
                  "9": "126",
                  "10": "Active",
                  "11": "4/4/2004",
                  "12": "2020",
                  "13": "Male",
                  "14": "American Indian",
                  "15": "English",
                  "18": "0",
                  "19": "3.43",
                  "20": "2022-11-15 13:03:25"
                }
              ],
              "schema": [
                {
                  "key": "0",
                  "name": "SIS_ID",
                  "type": "string"
                },
                {
                  "key": "1",
                  "name": "School_SIS_ID",
                  "type": "string"
                },
                {
                  "key": "2",
                  "name": "Username",
                  "type": "string"
                },
                {
                  "key": "3",
                  "name": "First_Name",
                  "type": "string"
                },
                {
                  "key": "4",
                  "name": "Last_Name",
                  "type": "string"
                },
                {
                  "key": "5",
                  "name": "Middle_Name",
                  "type": "string"
                },
                {
                  "key": "6",
                  "name": "Secondary_Email",
                  "type": "string"
                },
                {
                  "key": "7",
                  "name": "Student_Number",
                  "type": "string"
                },
                {
                  "key": "8",
                  "name": "Grade",
                  "type": "string"
                },
                {
                  "key": "9",
                  "name": "State_ID",
                  "type": "string"
                },
                {
                  "key": "10",
                  "name": "Status",
                  "type": "string"
                },
                {
                  "key": "11",
                  "name": "Birthdate",
                  "type": "string"
                },
                {
                  "key": "12",
                  "name": "Graduation_Year",
                  "type": "string"
                },
                {
                  "key": "13",
                  "name": "Gender",
                  "type": "string"
                },
                {
                  "key": "14",
                  "name": "FederalRaceCategory",
                  "type": "string"
                },
                {
                  "key": "15",
                  "name": "PrimaryLanguage",
                  "type": "string"
                },
                {
                  "key": "16",
                  "name": "ELLStatus",
                  "type": "string"
                },
                {
                  "key": "17",
                  "name": "SpecialEducation",
                  "type": "string"
                },
                {
                  "key": "18",
                  "name": "LowIncome",
                  "type": "string"
                },
                {
                  "key": "19",
                  "name": "CumulativeGPA",
                  "type": "string"
                },
                {
                  "key": "20",
                  "name": "rundate",
                  "type": "timestamp"
                }
              ],
              "truncated": false
            },
            "isSummary": false,
            "language": "scala"
          },
          "persist_state": {
            "view": {
              "type": "details",
              "tableOptions": {},
              "chartOptions": {
                "chartType": "bar",
                "aggregationType": "count",
                "categoryFieldKeys": [
                  "0"
                ],
                "seriesFieldKeys": [
                  "0"
                ],
                "isStacked": false
              }
            }
          }
        },
        "1ac1e1d5-5380-4d6a-9ddf-88390ecb86be": {
          "type": "Synapse.DataFrame",
          "sync_state": {
            "table": {
              "rows": [
                {
                  "0": "st1",
                  "1": "sch0",
                  "2": "albertibarra1",
                  "3": "Al",
                  "4": "Ibarra",
                  "5": "David",
                  "6": "albertibarra1@Classrmtest86.org",
                  "7": "1",
                  "8": "11",
                  "9": "123",
                  "10": "Active",
                  "11": "4/2/2004",
                  "12": "2020",
                  "13": "Male",
                  "14": "American Indian",
                  "15": "English",
                  "18": "0",
                  "19": "3.33",
                  "20": "2022-11-15 13:04:57"
                },
                {
                  "0": "st2",
                  "1": "sch0",
                  "2": "sharonhenderson2",
                  "3": "Sharon",
                  "4": "Henderson",
                  "5": "Elizabeth",
                  "6": "sharonhenderson2@Classrmtest86.org",
                  "7": "2",
                  "8": "12",
                  "9": "123",
                  "10": "Active",
                  "11": "4/2/2004",
                  "12": "2020",
                  "13": "Male",
                  "14": "Black",
                  "15": "English",
                  "17": "Resource Specialty Program",
                  "18": "0",
                  "19": "0.423",
                  "20": "2022-11-15 13:04:57"
                },
                {
                  "0": "st4",
                  "1": "sch0",
                  "2": "jonsmith",
                  "3": "Jon",
                  "4": "Smith",
                  "5": "Joseph",
                  "6": "jonsmith@Classrmtest86.org",
                  "7": "4",
                  "8": "11",
                  "9": "126",
                  "10": "Active",
                  "11": "4/4/2004",
                  "12": "2020",
                  "13": "Male",
                  "14": "American Indian",
                  "15": "English",
                  "18": "0",
                  "19": "3.43",
                  "20": "2022-11-15 13:03:25"
                }
              ],
              "schema": [
                {
                  "key": "0",
                  "name": "SIS_ID",
                  "type": "string"
                },
                {
                  "key": "1",
                  "name": "School_SIS_ID",
                  "type": "string"
                },
                {
                  "key": "2",
                  "name": "Username",
                  "type": "string"
                },
                {
                  "key": "3",
                  "name": "First_Name",
                  "type": "string"
                },
                {
                  "key": "4",
                  "name": "Last_Name",
                  "type": "string"
                },
                {
                  "key": "5",
                  "name": "Middle_Name",
                  "type": "string"
                },
                {
                  "key": "6",
                  "name": "Secondary_Email",
                  "type": "string"
                },
                {
                  "key": "7",
                  "name": "Student_Number",
                  "type": "string"
                },
                {
                  "key": "8",
                  "name": "Grade",
                  "type": "string"
                },
                {
                  "key": "9",
                  "name": "State_ID",
                  "type": "string"
                },
                {
                  "key": "10",
                  "name": "Status",
                  "type": "string"
                },
                {
                  "key": "11",
                  "name": "Birthdate",
                  "type": "string"
                },
                {
                  "key": "12",
                  "name": "Graduation_Year",
                  "type": "string"
                },
                {
                  "key": "13",
                  "name": "Gender",
                  "type": "string"
                },
                {
                  "key": "14",
                  "name": "FederalRaceCategory",
                  "type": "string"
                },
                {
                  "key": "15",
                  "name": "PrimaryLanguage",
                  "type": "string"
                },
                {
                  "key": "16",
                  "name": "ELLStatus",
                  "type": "string"
                },
                {
                  "key": "17",
                  "name": "SpecialEducation",
                  "type": "string"
                },
                {
                  "key": "18",
                  "name": "LowIncome",
                  "type": "string"
                },
                {
                  "key": "19",
                  "name": "CumulativeGPA",
                  "type": "string"
                },
                {
                  "key": "20",
                  "name": "rundate",
                  "type": "timestamp"
                }
              ],
              "truncated": false
            },
            "isSummary": false,
            "language": "scala"
          },
          "persist_state": {
            "view": {
              "type": "details",
              "tableOptions": {},
              "chartOptions": {
                "chartType": "bar",
                "aggregationType": "count",
                "categoryFieldKeys": [
                  "0"
                ],
                "seriesFieldKeys": [
                  "0"
                ],
                "isStacked": false
              }
            }
          }
        },
        "924a0bb4-69c8-4cc7-9aa8-5b0b3ad361e4": {
          "type": "Synapse.DataFrame",
          "sync_state": {
            "table": {
              "rows": [
                {
                  "0": "f7849951605427e42af25d7c281b8fe1dc7ca1aab144dfedc67692c29bba37f4",
                  "1": "sch0",
                  "2": "*",
                  "3": "*",
                  "4": "*",
                  "5": "*",
                  "6": "*",
                  "7": "5c3af4f96a244759e082e083b3d1c84793dc094b46fa99504a707713bc848e4c",
                  "8": "12",
                  "9": "8d4999ea517be412f11af0338c29ff92c4b4d091f5df52e8c40c25c8b7c3ebf3",
                  "10": "Active",
                  "11": "4/2/2004",
                  "12": "2020",
                  "13": "Male",
                  "14": "Black",
                  "15": "English",
                  "17": "Resource Specialty Program",
                  "18": "0",
                  "19": "0.423",
                  "20": "2022-11-15 13:04:57"
                },
                {
                  "0": "80baf60a237a6dcdfb699e6556b8024d3cd0233832364b951c1b118527a8a440",
                  "1": "sch0",
                  "2": "*",
                  "3": "*",
                  "4": "*",
                  "5": "*",
                  "6": "*",
                  "7": "2ac5dcb47657c630590e8c5d5963092e642960958bb4d4691ebec275882de9af",
                  "8": "11",
                  "9": "8d4999ea517be412f11af0338c29ff92c4b4d091f5df52e8c40c25c8b7c3ebf3",
                  "10": "Active",
                  "11": "4/2/2004",
                  "12": "2020",
                  "13": "Male",
                  "14": "American Indian",
                  "15": "English",
                  "18": "0",
                  "19": "3.33",
                  "20": "2022-11-15 13:04:57"
                },
                {
                  "0": "043f871063f55c98408b7918f1ab44ab1f02765241ead6964347593beff327e2",
                  "1": "sch0",
                  "2": "*",
                  "3": "*",
                  "4": "*",
                  "5": "*",
                  "6": "*",
                  "7": "166fb11c56f8025a536e117955a3d95ca713faf97098866ca51bf58ff2e703b1",
                  "8": "11",
                  "9": "b59798c0a337083bf0f92598689f5b2cf7be2e8804abd2b52aa78bc80c6ec5c3",
                  "10": "Active",
                  "11": "4/4/2004",
                  "12": "2020",
                  "13": "Male",
                  "14": "American Indian",
                  "15": "English",
                  "18": "0",
                  "19": "3.43",
                  "20": "2022-11-15 13:03:25"
                }
              ],
              "schema": [
                {
                  "key": "0",
                  "name": "SIS_ID_pseudonym",
                  "type": "string"
                },
                {
                  "key": "1",
                  "name": "School_SIS_ID",
                  "type": "string"
                },
                {
                  "key": "2",
                  "name": "Username",
                  "type": "string"
                },
                {
                  "key": "3",
                  "name": "First_Name",
                  "type": "string"
                },
                {
                  "key": "4",
                  "name": "Last_Name",
                  "type": "string"
                },
                {
                  "key": "5",
                  "name": "Middle_Name",
                  "type": "string"
                },
                {
                  "key": "6",
                  "name": "Secondary_Email",
                  "type": "string"
                },
                {
                  "key": "7",
                  "name": "Student_Number_pseudonym",
                  "type": "string"
                },
                {
                  "key": "8",
                  "name": "Grade",
                  "type": "string"
                },
                {
                  "key": "9",
                  "name": "State_ID_pseudonym",
                  "type": "string"
                },
                {
                  "key": "10",
                  "name": "Status",
                  "type": "string"
                },
                {
                  "key": "11",
                  "name": "Birthdate",
                  "type": "string"
                },
                {
                  "key": "12",
                  "name": "Graduation_Year",
                  "type": "string"
                },
                {
                  "key": "13",
                  "name": "Gender",
                  "type": "string"
                },
                {
                  "key": "14",
                  "name": "FederalRaceCategory",
                  "type": "string"
                },
                {
                  "key": "15",
                  "name": "PrimaryLanguage",
                  "type": "string"
                },
                {
                  "key": "16",
                  "name": "ELLStatus",
                  "type": "string"
                },
                {
                  "key": "17",
                  "name": "SpecialEducation",
                  "type": "string"
                },
                {
                  "key": "18",
                  "name": "LowIncome",
                  "type": "string"
                },
                {
                  "key": "19",
                  "name": "CumulativeGPA",
                  "type": "string"
                },
                {
                  "key": "20",
                  "name": "rundate",
                  "type": "timestamp"
                }
              ],
              "truncated": false
            },
            "isSummary": false,
            "language": "scala"
          },
          "persist_state": {
            "view": {
              "type": "details",
              "tableOptions": {},
              "chartOptions": {
                "chartType": "bar",
                "aggregationType": "count",
                "categoryFieldKeys": [
                  "0"
                ],
                "seriesFieldKeys": [
                  "0"
                ],
                "isStacked": false
              }
            }
          }
        },
        "4123933f-0954-45c3-a154-29f3d2c711aa": {
          "type": "Synapse.DataFrame",
          "sync_state": {
            "table": {
              "rows": [
                {
                  "0": "st2",
                  "1": "sharonhenderson2",
                  "2": "Sharon",
                  "3": "Henderson",
                  "4": "Elizabeth",
                  "5": "sharonhenderson2@Classrmtest86.org",
                  "6": "2",
                  "7": "123",
                  "8": "2022-11-15 13:04:57",
                  "9": "f7849951605427e42af25d7c281b8fe1dc7ca1aab144dfedc67692c29bba37f4",
                  "10": "5c3af4f96a244759e082e083b3d1c84793dc094b46fa99504a707713bc848e4c",
                  "11": "8d4999ea517be412f11af0338c29ff92c4b4d091f5df52e8c40c25c8b7c3ebf3"
                },
                {
                  "0": "st4",
                  "1": "jonsmith",
                  "2": "Jon",
                  "3": "Smith",
                  "4": "Joseph",
                  "5": "jonsmith@Classrmtest86.org",
                  "6": "4",
                  "7": "126",
                  "8": "2022-11-15 13:03:25",
                  "9": "043f871063f55c98408b7918f1ab44ab1f02765241ead6964347593beff327e2",
                  "10": "166fb11c56f8025a536e117955a3d95ca713faf97098866ca51bf58ff2e703b1",
                  "11": "b59798c0a337083bf0f92598689f5b2cf7be2e8804abd2b52aa78bc80c6ec5c3"
                },
                {
                  "0": "st1",
                  "1": "albertibarra1",
                  "2": "Al",
                  "3": "Ibarra",
                  "4": "David",
                  "5": "albertibarra1@Classrmtest86.org",
                  "6": "1",
                  "7": "123",
                  "8": "2022-11-15 13:04:57",
                  "9": "80baf60a237a6dcdfb699e6556b8024d3cd0233832364b951c1b118527a8a440",
                  "10": "2ac5dcb47657c630590e8c5d5963092e642960958bb4d4691ebec275882de9af",
                  "11": "8d4999ea517be412f11af0338c29ff92c4b4d091f5df52e8c40c25c8b7c3ebf3"
                }
              ],
              "schema": [
                {
                  "key": "0",
                  "name": "SIS_ID",
                  "type": "string"
                },
                {
                  "key": "1",
                  "name": "Username",
                  "type": "string"
                },
                {
                  "key": "2",
                  "name": "First_Name",
                  "type": "string"
                },
                {
                  "key": "3",
                  "name": "Last_Name",
                  "type": "string"
                },
                {
                  "key": "4",
                  "name": "Middle_Name",
                  "type": "string"
                },
                {
                  "key": "5",
                  "name": "Secondary_Email",
                  "type": "string"
                },
                {
                  "key": "6",
                  "name": "Student_Number",
                  "type": "string"
                },
                {
                  "key": "7",
                  "name": "State_ID",
                  "type": "string"
                },
                {
                  "key": "8",
                  "name": "rundate",
                  "type": "timestamp"
                },
                {
                  "key": "9",
                  "name": "SIS_ID_pseudonym",
                  "type": "string"
                },
                {
                  "key": "10",
                  "name": "Student_Number_pseudonym",
                  "type": "string"
                },
                {
                  "key": "11",
                  "name": "State_ID_pseudonym",
                  "type": "string"
                }
              ],
              "truncated": false
            },
            "isSummary": false,
            "language": "scala"
          },
          "persist_state": {
            "view": {
              "type": "details",
              "tableOptions": {},
              "chartOptions": {
                "chartType": "bar",
                "aggregationType": "count",
                "categoryFieldKeys": [
                  "0"
                ],
                "seriesFieldKeys": [
                  "0"
                ],
                "isStacked": false
              }
            }
          }
        },
        "ac2ecca3-e71e-4dda-9d78-04d133992a19": {
          "type": "Synapse.DataFrame",
          "sync_state": {
            "table": {
              "rows": [
                {
                  "0": "sharonhenderson2",
                  "1": "12"
                },
                {
                  "0": "jonsmith",
                  "1": "11"
                },
                {
                  "0": "albertibarra1",
                  "1": "11"
                }
              ],
              "schema": [
                {
                  "key": "0",
                  "name": "Username",
                  "type": "string"
                },
                {
                  "key": "1",
                  "name": "Grade",
                  "type": "string"
                }
              ],
              "truncated": false
            },
            "isSummary": false,
            "language": "scala"
          },
          "persist_state": {
            "view": {
              "type": "details",
              "tableOptions": {},
              "chartOptions": {
                "chartType": "bar",
                "aggregationType": "count",
                "categoryFieldKeys": [
                  "0"
                ],
                "seriesFieldKeys": [
                  "0"
                ],
                "isStacked": false
              }
            }
          }
        }
      }
    }
  },
  "nbformat": 4,
  "nbformat_minor": 2
}
